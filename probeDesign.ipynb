{
 "cells": [
  {
   "cell_type": "code",
   "execution_count": 27,
   "metadata": {},
   "outputs": [],
   "source": [
    "import os\n",
    "import sys\n",
    "import numpy as np\n",
    "import pandas as pd\n",
    "\n",
    "def readFASTA(path):\n",
    "    f = open(path,\"rb\")\n",
    "    data = f.readlines()\n",
    "    f.close\n",
    "    pool = []\n",
    "    tmpLabel = \"\"\n",
    "    tmpSeq = \"\"\n",
    "    flag = 0\n",
    "    for each in data:\n",
    "        each = each[:-1]\n",
    "        if each[0] == \">\":\n",
    "            if flag == 1:\n",
    "                pool.append([tmpLabel, tmpSeq])\n",
    "            tmpLabel = each[1:]\n",
    "            tmpSeq = \"\"\n",
    "        else:\n",
    "            tmpSeq += each\n",
    "        flag = 1\n",
    "    pool.append([tmpLabel, tmpSeq])\n",
    "    return pool\n",
    "\n",
    "def reverseComplement(seq):\n",
    "    basePool = {\"A\":\"T\",\"T\":\"A\",\"C\":\"G\",\"G\":\"C\"}\n",
    "    out_seq = \"\"\n",
    "    for e in seq:\n",
    "        out_seq = basePool[e] + out_seq\n",
    "    return out_seq\n",
    "\n",
    "def designProbe(seq, probeLength):\n",
    "    probes = []\n",
    "    offset = (len(seq) % probeLength) / 2\n",
    "    probes.append(seq[:offset])\n",
    "    for i in np.arange(offset, len(seq), probeLength):\n",
    "        probes.append(seq[i: i + probeLength])\n",
    "    probes_final = []\n",
    "    probes_final.append(probes[0] + probes[1])\n",
    "    for i in range(len(probes) - 4):\n",
    "        probes_final.append(probes[i + 2])\n",
    "    probes_final.append(probes[-2] + probes[-1])\n",
    "    return probes_final"
   ]
  },
  {
   "cell_type": "code",
   "execution_count": 31,
   "metadata": {},
   "outputs": [],
   "source": [
    "#Path to rRNA sequences. rRNA sequences should be labelled as [SampleID]_16S and [SampleID]_23S in FASTA format.\n",
    "input_PATH = \"./rRNA_sequence.fa\"\n",
    "output_PATH = \"./rRNA_probe.tsv\"\n",
    "probe_length = 50"
   ]
  },
  {
   "cell_type": "code",
   "execution_count": 32,
   "metadata": {},
   "outputs": [],
   "source": [
    "rRNA_pool = readFASTA(input_PATH)\n",
    "rRNA_pool_rc = [[e[0], reverseComplement(e[1])] for e in rRNA_pool]\n",
    "rRNA_pool_probes = [[e[0], designProbe(e[1], probe_length)] for e in rRNA_pool_rc]"
   ]
  },
  {
   "cell_type": "code",
   "execution_count": 33,
   "metadata": {},
   "outputs": [],
   "source": [
    "f = open(output_PATH, \"w\")\n",
    "f.writelines([\"rRNA_label\\tprobe_ID\\tprobe_sequence\" + os.linesep])\n",
    "for eachRNA in rRNA_pool_probes:\n",
    "    rRNA_label = eachRNA[0]\n",
    "    probe_pool = eachRNA[1]\n",
    "    for i in range(len(probe_pool)):\n",
    "        probe_ID = rRNA_label + \"_\" + str(i)\n",
    "        f.writelines([rRNA_label + \"\\t\" + probe_ID + \"\\t\" + probe_pool[i] + os.linesep])\n",
    "f.close()"
   ]
  }
 ],
 "metadata": {
  "kernelspec": {
   "display_name": "Python 2",
   "language": "python",
   "name": "python2"
  },
  "language_info": {
   "codemirror_mode": {
    "name": "ipython",
    "version": 2
   },
   "file_extension": ".py",
   "mimetype": "text/x-python",
   "name": "python",
   "nbconvert_exporter": "python",
   "pygments_lexer": "ipython2",
   "version": "2.7.15"
  }
 },
 "nbformat": 4,
 "nbformat_minor": 2
}
